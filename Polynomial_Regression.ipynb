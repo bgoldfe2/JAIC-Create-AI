{
  "nbformat": 4,
  "nbformat_minor": 0,
  "metadata": {
    "colab": {
      "name": "Welcome To Colaboratory",
      "provenance": [],
      "collapsed_sections": [],
      "include_colab_link": true
    },
    "kernelspec": {
      "display_name": "Python 3",
      "name": "python3"
    }
  },
  "cells": [
    {
      "cell_type": "markdown",
      "metadata": {
        "id": "view-in-github",
        "colab_type": "text"
      },
      "source": [
        "<a href=\"https://colab.research.google.com/github/bgoldfe2/JAIC-Create-AI/blob/main/Polynomial_Regression.ipynb\" target=\"_parent\"><img src=\"https://colab.research.google.com/assets/colab-badge.svg\" alt=\"Open In Colab\"/></a>"
      ]
    },
    {
      "cell_type": "code",
      "metadata": {
        "id": "eHyUi0c0kCGZ"
      },
      "source": [
        "import pandas as pd\n",
        "import numpy as np\n",
        "from sklearn.linear_model import LinearRegression\n",
        "from sklearn.preprocessing import PolynomialFeatures\n",
        "from sklearn.linear_model import Ridge\n"
      ],
      "execution_count": 59,
      "outputs": []
    },
    {
      "cell_type": "code",
      "metadata": {
        "colab": {
          "base_uri": "https://localhost:8080/",
          "height": 297
        },
        "id": "rmLo1KnYnHp7",
        "outputId": "4d784c80-bf2a-484c-ae5d-af7394b2e4fe"
      },
      "source": [
        "train_data = pd.read_csv('data_ex3.csv')\n",
        "train_data.describe()"
      ],
      "execution_count": 60,
      "outputs": [
        {
          "output_type": "execute_result",
          "data": {
            "text/html": [
              "<div>\n",
              "<style scoped>\n",
              "    .dataframe tbody tr th:only-of-type {\n",
              "        vertical-align: middle;\n",
              "    }\n",
              "\n",
              "    .dataframe tbody tr th {\n",
              "        vertical-align: top;\n",
              "    }\n",
              "\n",
              "    .dataframe thead th {\n",
              "        text-align: right;\n",
              "    }\n",
              "</style>\n",
              "<table border=\"1\" class=\"dataframe\">\n",
              "  <thead>\n",
              "    <tr style=\"text-align: right;\">\n",
              "      <th></th>\n",
              "      <th>Var_X</th>\n",
              "      <th>Var_Y</th>\n",
              "    </tr>\n",
              "  </thead>\n",
              "  <tbody>\n",
              "    <tr>\n",
              "      <th>count</th>\n",
              "      <td>20.000000</td>\n",
              "      <td>20.000000</td>\n",
              "    </tr>\n",
              "    <tr>\n",
              "      <th>mean</th>\n",
              "      <td>0.562083</td>\n",
              "      <td>-0.215209</td>\n",
              "    </tr>\n",
              "    <tr>\n",
              "      <th>std</th>\n",
              "      <td>1.608587</td>\n",
              "      <td>6.278468</td>\n",
              "    </tr>\n",
              "    <tr>\n",
              "      <th>min</th>\n",
              "      <td>-2.791400</td>\n",
              "      <td>-11.132700</td>\n",
              "    </tr>\n",
              "    <tr>\n",
              "      <th>25%</th>\n",
              "      <td>-0.414105</td>\n",
              "      <td>-5.450578</td>\n",
              "    </tr>\n",
              "    <tr>\n",
              "      <th>50%</th>\n",
              "      <td>0.462765</td>\n",
              "      <td>2.196495</td>\n",
              "    </tr>\n",
              "    <tr>\n",
              "      <th>75%</th>\n",
              "      <td>1.562530</td>\n",
              "      <td>5.199015</td>\n",
              "    </tr>\n",
              "    <tr>\n",
              "      <th>max</th>\n",
              "      <td>3.328530</td>\n",
              "      <td>8.438230</td>\n",
              "    </tr>\n",
              "  </tbody>\n",
              "</table>\n",
              "</div>"
            ],
            "text/plain": [
              "           Var_X      Var_Y\n",
              "count  20.000000  20.000000\n",
              "mean    0.562083  -0.215209\n",
              "std     1.608587   6.278468\n",
              "min    -2.791400 -11.132700\n",
              "25%    -0.414105  -5.450578\n",
              "50%     0.462765   2.196495\n",
              "75%     1.562530   5.199015\n",
              "max     3.328530   8.438230"
            ]
          },
          "metadata": {
            "tags": []
          },
          "execution_count": 60
        }
      ]
    },
    {
      "cell_type": "code",
      "metadata": {
        "colab": {
          "base_uri": "https://localhost:8080/",
          "height": 265
        },
        "id": "c0ZPz8t0oSdJ",
        "outputId": "a18931b5-9566-4930-c1c8-090daaaddc67"
      },
      "source": [
        "x = train_data['Var_X']\n",
        "\n",
        "y = train_data['Var_Y']\n",
        "\n",
        "plt.scatter(x, y, color='navy', s=30, marker='o', label=\"training points\")\n",
        "\n",
        "plt.legend(loc='lower left')\n",
        "\n",
        "plt.show()"
      ],
      "execution_count": 61,
      "outputs": [
        {
          "output_type": "display_data",
          "data": {
            "image/png": "[encoded data removed]",
            "text/plain": [
              "<Figure size 432x288 with 1 Axes>"
            ]
          },
          "metadata": {
            "tags": [],
            "needs_background": "light"
          }
        }
      ]
    },
    {
      "cell_type": "code",
      "metadata": {
        "colab": {
          "base_uri": "https://localhost:8080/"
        },
        "id": "X8JGOkaak4BX",
        "outputId": "9a6997ae-0dd6-417f-f392-d0f5897be5f8"
      },
      "source": [
        "# Visual inspection implies that this is a higher than degree 2\n",
        "# features, a selection of models with degree 3,4,5 would\n",
        "# be useful to see how well these map to the points\n",
        "# https://scikit-learn.org/stable/auto_examples/linear_model/plot_polynomial_interpolation.html#sphx-glr-auto-examples-linear-model-plot-polynomial-interpolation-py\n",
        "\n",
        "\n",
        "X = train_data.loc[:,'Var_X'].to_numpy().reshape(20,1)\n",
        "print(X.shape)\n",
        "Y = train_data.loc[:,'Var_Y'].to_numpy().reshape(20,1)\n",
        "print(Y.shape)\n"
      ],
      "execution_count": 62,
      "outputs": [
        {
          "output_type": "stream",
          "text": [
            "(20, 1)\n",
            "(20, 1)\n"
          ],
          "name": "stdout"
        }
      ]
    },
    {
      "cell_type": "code",
      "metadata": {
        "colab": {
          "base_uri": "https://localhost:8080/",
          "height": 333
        },
        "id": "brIR2V-vlwlb",
        "outputId": "b0ca7992-528c-4b04-c831-e37bf97aeab9"
      },
      "source": [
        "\n",
        "colors = ['teal', 'yellowgreen', 'gold']\n",
        "lw = 2\n",
        "#plt.plot(x, y, color='cornflowerblue', linewidth=lw,\\\n",
        "#      label=\"ground truth\")\n",
        "plt.scatter(x, y, color='navy', s=30, marker='o', label=\"training points\")\n",
        "\n",
        "# change degree to see how the fit changes\n",
        "degree = 4\n",
        "color_count = degree - 3\n",
        "\n",
        "poly_feat = PolynomialFeatures(degree)\n",
        "X_poly = poly_feat.fit_transform(X)\n",
        "poly_model = LinearRegression().fit(X_poly,y)\n",
        "y_plot = poly_model.predict(X_poly)\n",
        "print(y_plot)\n",
        "plt.scatter(x, y_plot, color=colors[color_count], linewidth=lw,\\\n",
        "          label=\"degree %d\" % degree)\n",
        "\n",
        "plt.legend(loc='lower left')\n",
        "\n",
        "plt.show()"
      ],
      "execution_count": 67,
      "outputs": [
        {
          "output_type": "stream",
          "text": [
            "[  5.19641403   3.23885556   7.00399695   6.34330534   4.93719303\n",
            " -10.48940158  -6.37026049  -2.34493858   4.37232952  -5.7001477\n",
            "   6.7478636    0.7092552   -7.96880783   1.72612006   4.12622364\n",
            "  -5.19188792  -6.55748759  -0.67958875 -10.36912438   6.96590788]\n"
          ],
          "name": "stdout"
        },
        {
          "output_type": "display_data",
          "data": {
            "image/png": "[encoded data removed]",
            "text/plain": [
              "<Figure size 432x288 with 1 Axes>"
            ]
          },
          "metadata": {
            "tags": [],
            "needs_background": "light"
          }
        }
      ]
    },
    {
      "cell_type": "code",
      "metadata": {
        "id": "EgbRkyzhCKra"
      },
      "source": [
        ""
      ],
      "execution_count": null,
      "outputs": []
    }
  ]
}