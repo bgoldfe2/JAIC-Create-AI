{
  "nbformat": 4,
  "nbformat_minor": 0,
  "metadata": {
    "colab": {
      "name": "Welcome To Colaboratory",
      "provenance": [],
      "collapsed_sections": [],
      "include_colab_link": true
    },
    "kernelspec": {
      "display_name": "Python 3",
      "name": "python3"
    }
  },
  "cells": [
    {
      "cell_type": "markdown",
      "metadata": {
        "id": "view-in-github",
        "colab_type": "text"
      },
      "source": [
        "<a href=\"https://colab.research.google.com/github/bgoldfe2/JAIC-Create-AI/blob/main/sklearn_linear_regression.ipynb\" target=\"_parent\"><img src=\"https://colab.research.google.com/assets/colab-badge.svg\" alt=\"Open In Colab\"/></a>"
      ]
    },
    {
      "cell_type": "code",
      "metadata": {
        "id": "nJkqkj2urkfq",
        "outputId": "1b080081-ab14-49c2-a0e3-45131ef4ff0f",
        "colab": {
          "base_uri": "https://localhost:8080/"
        }
      },
      "source": [
        "# TODO: Add import statements\n",
        "import pandas as pd\n",
        "from sklearn.linear_model import LinearRegression\n",
        "\n",
        "# Assign the dataframe to this variable.\n",
        "# TODO: Load the data\n",
        "\n",
        "bmi_life_data = pd.read_csv(\"life.csv\") \n",
        "print(bmi_life_data)\n",
        "print(bmi_life_data[\"Life expectancy\"][0])\n",
        "print(bmi_life_data[\"Life expectancy\"].shape)\n",
        "print(bmi_life_data[\"BMI\"][0])\n",
        "print(bmi_life_data[\"Life expectancy\"].shape)\n",
        "X = bmi_life_data['BMI'].values.reshape(-1,1)\n",
        "Y = bmi_life_data['Life expectancy'].values.reshape(-1,1)\n",
        "\n",
        "# Make and fit the linear regression model\n",
        "#TODO: Fit the model and Assign it to bmi_life_model\n",
        "bmi_life_model = LinearRegression()\n",
        "bmi_life_model.fit(X,Y)\n",
        "\n",
        "# Make a prediction using the model\n",
        "# TODO: Predict life expectancy for a BMI value of 21.07931\n",
        "laos_life_exp = bmi_life_model.predict([ [21.07931] ])\n",
        "print (laos_life_exp)"
      ],
      "execution_count": 11,
      "outputs": [
        {
          "output_type": "stream",
          "text": [
            "                Country  Life expectancy       BMI\n",
            "0           Afghanistan             52.8  20.62058\n",
            "1               Albania             76.8  26.44657\n",
            "2               Algeria             75.5  24.59620\n",
            "3               Andorra             84.6  27.63048\n",
            "4                Angola             56.7  22.25083\n",
            "..                  ...              ...       ...\n",
            "158             Vanuatu             63.4  26.78926\n",
            "159  West Bank and Gaza             74.1  26.57750\n",
            "160             Vietnam             74.1  20.91630\n",
            "161              Zambia             51.1  20.68321\n",
            "162            Zimbabwe             47.3  22.02660\n",
            "\n",
            "[163 rows x 3 columns]\n",
            "52.8\n",
            "(163,)\n",
            "20.62058\n",
            "(163,)\n",
            "[[60.31564716]]\n"
          ],
          "name": "stdout"
        }
      ]
    },
    {
      "cell_type": "code",
      "metadata": {
        "id": "DlG6a6uEse3T"
      },
      "source": [
        ""
      ],
      "execution_count": null,
      "outputs": []
    }
  ]
}