{
  "nbformat": 4,
  "nbformat_minor": 0,
  "metadata": {
    "colab": {
      "name": "Welcome To Colaboratory",
      "provenance": [],
      "collapsed_sections": [],
      "include_colab_link": true
    },
    "kernelspec": {
      "display_name": "Python 3",
      "name": "python3"
    }
  },
  "cells": [
    {
      "cell_type": "markdown",
      "metadata": {
        "id": "view-in-github",
        "colab_type": "text"
      },
      "source": [
        "<a href=\"https://colab.research.google.com/github/bgoldfe2/JAIC-Create-AI/blob/main/Polynomial_regression.ipynb\" target=\"_parent\"><img src=\"https://colab.research.google.com/assets/colab-badge.svg\" alt=\"Open In Colab\"/></a>"
      ]
    },
    {
      "cell_type": "code",
      "metadata": {
        "id": "eHyUi0c0kCGZ"
      },
      "source": [
        "import pandas as pd\n",
        "import numpy as np\n",
        "from sklearn.linear_model import LinearRegression\n",
        "from sklearn.preprocessing import PolynomialFeatures\n",
        "from sklearn.linear_model import Ridge\n"
      ],
      "execution_count": 44,
      "outputs": []
    },
    {
      "cell_type": "code",
      "metadata": {
        "id": "rmLo1KnYnHp7",
        "outputId": "57c7f17e-8945-4090-e529-fe1d92f89b43",
        "colab": {
          "base_uri": "https://localhost:8080/",
          "height": 297
        }
      },
      "source": [
        "train_data = pd.read_csv('data_ex3.csv')\n",
        "train_data.describe()"
      ],
      "execution_count": 13,
      "outputs": [
        {
          "output_type": "execute_result",
          "data": {
            "text/html": [
              "<div>\n",
              "<style scoped>\n",
              "    .dataframe tbody tr th:only-of-type {\n",
              "        vertical-align: middle;\n",
              "    }\n",
              "\n",
              "    .dataframe tbody tr th {\n",
              "        vertical-align: top;\n",
              "    }\n",
              "\n",
              "    .dataframe thead th {\n",
              "        text-align: right;\n",
              "    }\n",
              "</style>\n",
              "<table border=\"1\" class=\"dataframe\">\n",
              "  <thead>\n",
              "    <tr style=\"text-align: right;\">\n",
              "      <th></th>\n",
              "      <th>Var_X</th>\n",
              "      <th>Var_Y</th>\n",
              "    </tr>\n",
              "  </thead>\n",
              "  <tbody>\n",
              "    <tr>\n",
              "      <th>count</th>\n",
              "      <td>20.000000</td>\n",
              "      <td>20.000000</td>\n",
              "    </tr>\n",
              "    <tr>\n",
              "      <th>mean</th>\n",
              "      <td>0.562083</td>\n",
              "      <td>-0.215209</td>\n",
              "    </tr>\n",
              "    <tr>\n",
              "      <th>std</th>\n",
              "      <td>1.608587</td>\n",
              "      <td>6.278468</td>\n",
              "    </tr>\n",
              "    <tr>\n",
              "      <th>min</th>\n",
              "      <td>-2.791400</td>\n",
              "      <td>-11.132700</td>\n",
              "    </tr>\n",
              "    <tr>\n",
              "      <th>25%</th>\n",
              "      <td>-0.414105</td>\n",
              "      <td>-5.450578</td>\n",
              "    </tr>\n",
              "    <tr>\n",
              "      <th>50%</th>\n",
              "      <td>0.462765</td>\n",
              "      <td>2.196495</td>\n",
              "    </tr>\n",
              "    <tr>\n",
              "      <th>75%</th>\n",
              "      <td>1.562530</td>\n",
              "      <td>5.199015</td>\n",
              "    </tr>\n",
              "    <tr>\n",
              "      <th>max</th>\n",
              "      <td>3.328530</td>\n",
              "      <td>8.438230</td>\n",
              "    </tr>\n",
              "  </tbody>\n",
              "</table>\n",
              "</div>"
            ],
            "text/plain": [
              "           Var_X      Var_Y\n",
              "count  20.000000  20.000000\n",
              "mean    0.562083  -0.215209\n",
              "std     1.608587   6.278468\n",
              "min    -2.791400 -11.132700\n",
              "25%    -0.414105  -5.450578\n",
              "50%     0.462765   2.196495\n",
              "75%     1.562530   5.199015\n",
              "max     3.328530   8.438230"
            ]
          },
          "metadata": {
            "tags": []
          },
          "execution_count": 13
        }
      ]
    },
    {
      "cell_type": "code",
      "metadata": {
        "id": "c0ZPz8t0oSdJ",
        "outputId": "64a061ed-89ee-45ce-bf0c-5521c9245487",
        "colab": {
          "base_uri": "https://localhost:8080/",
          "height": 265
        }
      },
      "source": [
        "x = train_data['Var_X']\n",
        "\n",
        "y = train_data['Var_Y']\n",
        "\n",
        "plt.scatter(x, y, color='navy', s=30, marker='o', label=\"training points\")\n",
        "\n",
        "plt.legend(loc='lower left')\n",
        "\n",
        "plt.show()"
      ],
      "execution_count": 39,
      "outputs": [
        {
          "output_type": "display_data",
          "data": {
            "image/png": "[encoded data removed]",
            "text/plain": [
              "<Figure size 432x288 with 1 Axes>"
            ]
          },
          "metadata": {
            "tags": [],
            "needs_background": "light"
          }
        }
      ]
    },
    {
      "cell_type": "code",
      "metadata": {
        "id": "X8JGOkaak4BX",
        "outputId": "fd8bda95-c57b-43ac-c504-94e1759d85c3",
        "colab": {
          "base_uri": "https://localhost:8080/"
        }
      },
      "source": [
        "# Visual inspection implies that this is a higher than degree 2\n",
        "# features, a selection of models with degree 3,4,5 would\n",
        "# be useful to see how well these map to the points\n",
        "# https://scikit-learn.org/stable/auto_examples/linear_model/plot_polynomial_interpolation.html#sphx-glr-auto-examples-linear-model-plot-polynomial-interpolation-py\n",
        "\n",
        "\n",
        "X = train_data.loc[:,'Var_X'].to_numpy().reshape(20,1)\n",
        "print(X.shape)\n",
        "Y = train_data.loc[:,'Var_Y'].to_numpy().reshape(20,1)\n",
        "print(Y.shape)\n"
      ],
      "execution_count": 14,
      "outputs": [
        {
          "output_type": "stream",
          "text": [
            "(20, 1)\n",
            "(20, 1)\n"
          ],
          "name": "stdout"
        }
      ]
    },
    {
      "cell_type": "code",
      "metadata": {
        "id": "brIR2V-vlwlb",
        "outputId": "d970499c-62c2-4eb8-df75-1c8add11d311",
        "colab": {
          "base_uri": "https://localhost:8080/",
          "height": 333
        }
      },
      "source": [
        "\n",
        "colors = ['teal', 'yellowgreen', 'gold']\n",
        "lw = 2\n",
        "#plt.plot(x, y, color='cornflowerblue', linewidth=lw,\\\n",
        "#      label=\"ground truth\")\n",
        "plt.scatter(x, y, color='navy', s=30, marker='o', label=\"training points\")\n",
        "\n",
        "# change degree to see how the fit changes\n",
        "degree = 5\n",
        "color_count = degree - 3\n",
        "\n",
        "poly_feat = PolynomialFeatures(degree)\n",
        "X_poly = poly_feat.fit_transform(X)\n",
        "poly_model = Ridge().fit(X_poly,y)\n",
        "y_plot = poly_model.predict(X_poly)\n",
        "print(y_plot)\n",
        "plt.scatter(x, y_plot, color=colors[color_count], linewidth=lw,\\\n",
        "          label=\"degree %d\" % degree)\n",
        "\n",
        "plt.legend(loc='lower left')\n",
        "\n",
        "plt.show()"
      ],
      "execution_count": 58,
      "outputs": [
        {
          "output_type": "stream",
          "text": [
            "[  4.75931376   3.0657425    6.3915357    5.75014311   4.53610416\n",
            "  -9.96380899  -5.72836837  -1.93085348   4.27382656  -5.8454944\n",
            "   6.26560438   0.83616861  -7.30153999   1.73877929   4.35662139\n",
            "  -4.59581099  -6.67273417  -0.4113099  -10.14988888   6.3217897 ]\n"
          ],
          "name": "stdout"
        },
        {
          "output_type": "display_data",
          "data": {
            "image/png": "[encoded data removed]",
            "text/plain": [
              "<Figure size 432x288 with 1 Axes>"
            ]
          },
          "metadata": {
            "tags": [],
            "needs_background": "light"
          }
        }
      ]
    },
    {
      "cell_type": "code",
      "metadata": {
        "id": "sF0SogXq63XW",
        "outputId": "a2735c37-be74-484c-9571-72e6997fef01",
        "colab": {
          "base_uri": "https://localhost:8080/",
          "height": 469
        }
      },
      "source": [
        "do_poly()"
      ],
      "execution_count": 47,
      "outputs": [
        {
          "output_type": "stream",
          "text": [
            "[ 3.97224712  1.61545353  8.14593359  5.82904927  3.6204003  -7.8370022\n",
            " -5.88466915 -3.2471687   0.34253069 -4.55958518  8.73161427 -0.8142407\n",
            " -6.76686539  0.10528155  2.63643754 -5.17257758 -5.01965951 -1.97476513\n",
            " -7.34234149  7.55326396]\n",
            "[ 4.58563202  2.82380761  6.17478371  5.60307063  4.35377758 -9.9126589\n",
            " -6.02428619 -2.28703773  3.84238623 -5.55268913  5.95817473  0.52062915\n",
            " -7.52112871  1.44929791  4.47130173 -4.92590589 -6.34806282 -0.75292867\n",
            " -9.85393347  6.1439813 ]\n",
            "[  4.36380484   2.66694092   6.35367703   5.43009985   4.13458084\n",
            "  -9.88702099  -5.77931282  -2.14459688   4.27643955  -5.86891035\n",
            "   6.42763411   0.50512833  -7.29392472   1.37525406   4.34719929\n",
            "  -4.69313335  -6.68888622  -0.69145762 -10.09713154   6.1754528 ]\n"
          ],
          "name": "stdout"
        },
        {
          "output_type": "display_data",
          "data": {
            "image/png": "[encoded data removed]",
            "text/plain": [
              "<Figure size 432x288 with 1 Axes>"
            ]
          },
          "metadata": {
            "tags": [],
            "needs_background": "light"
          }
        }
      ]
    },
    {
      "cell_type": "code",
      "metadata": {
        "id": "LVMCG1HUntKY"
      },
      "source": [
        "y_plot = LinearRegression(fit_intercept = False).fit(X_poly,y)"
      ],
      "execution_count": 31,
      "outputs": []
    },
    {
      "cell_type": "code",
      "metadata": {
        "id": "7i5gw0nEoAn1"
      },
      "source": [
        ""
      ],
      "execution_count": 31,
      "outputs": []
    },
    {
      "cell_type": "code",
      "metadata": {
        "id": "imnrc7sboD60"
      },
      "source": [
        "colors = ['teal', 'yellowgreen', 'gold']\n",
        "lw = 2\n",
        "plt.plot(x_plot, f(x_plot), color='cornflowerblue', linewidth=lw,\n",
        "         label=\"ground truth\")\n",
        "plt.scatter(x, y, color='navy', s=30, marker='o', label=\"training points\")\n",
        "\n",
        "for count, degree in enumerate([3, 4, 5]):\n",
        "    model = make_pipeline(PolynomialFeatures(degree), Ridge())\n",
        "    model.fit(X, y)\n",
        "    y_plot = model.predict(X_plot)\n",
        "    plt.plot(x_plot, y_plot, color=colors[count], linewidth=lw,\n",
        "             label=\"degree %d\" % degree)\n",
        "\n",
        "plt.legend(loc='lower left')\n",
        "\n",
        "plt.show()"
      ],
      "execution_count": null,
      "outputs": []
    }
  ]
}